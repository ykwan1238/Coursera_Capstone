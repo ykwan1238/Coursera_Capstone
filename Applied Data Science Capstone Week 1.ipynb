{
    "cells": [
        {
            "metadata": {},
            "cell_type": "markdown",
            "source": "This is the notebook for Applied Data Science capstone\n    "
        },
        {
            "metadata": {},
            "cell_type": "code",
            "source": "import numpy as np  # useful for many scientific computing in Python\nimport pandas as pd # primary data structure library\n\nprint(' Hello Capstone Project Course!')",
            "execution_count": 3,
            "outputs": [
                {
                    "output_type": "stream",
                    "text": " Hello Capstone Project Course!\n",
                    "name": "stdout"
                }
            ]
        },
        {
            "metadata": {},
            "cell_type": "code",
            "source": "",
            "execution_count": null,
            "outputs": []
        }
    ],
    "metadata": {
        "kernelspec": {
            "name": "python3",
            "display_name": "Python 3.6",
            "language": "python"
        },
        "language_info": {
            "name": "python",
            "version": "3.6.8",
            "mimetype": "text/x-python",
            "codemirror_mode": {
                "name": "ipython",
                "version": 3
            },
            "pygments_lexer": "ipython3",
            "nbconvert_exporter": "python",
            "file_extension": ".py"
        }
    },
    "nbformat": 4,
    "nbformat_minor": 1
}